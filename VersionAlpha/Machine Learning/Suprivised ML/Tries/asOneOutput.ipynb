{
 "cells": [
  {
   "cell_type": "code",
   "execution_count": null,
   "id": "fe146f78",
   "metadata": {},
   "outputs": [],
   "source": [
    "import pandas as pd\n",
    "import numpy as np\n",
    "import matplotlib.pyplot as plt\n",
    "from sklearn.preprocessing import StandardScaler\n",
    "# from imblearn.over_sampling import RandomOverSampler # for add  more of sample if not have "
   ]
  },
  {
   "cell_type": "code",
   "execution_count": null,
   "id": "5387db84",
   "metadata": {},
   "outputs": [],
   "source": [
    "cols = [\"G\" , \"C\" , \"B\" , \"A\" , \"Ia\" , \"Ib\" , \"Ic\" , \"Va\" , \"Vb\" , \"Vc\"] \n",
    "# G , C , B , A is OutPut\n",
    "# Ia\" , \"Ib\" , \"Ic\" , \"Va\" , \"Vb\" , \"Vc is Input\n",
    "df = pd.read_csv(\"../../../classData.csv\")\n",
    "cols[4:]\n",
    "\n"
   ]
  },
  {
   "cell_type": "code",
   "execution_count": null,
   "id": "972dcae7",
   "metadata": {},
   "outputs": [],
   "source": [
    "df['fault_type'] = df[['G', 'C', 'B', 'A']].astype(str).agg(''.join, axis=1)\n",
    "df "
   ]
  },
  {
   "cell_type": "code",
   "execution_count": null,
   "id": "1373b3e6",
   "metadata": {},
   "outputs": [],
   "source": [
    "# for label in cols[:-1]:\n",
    "#     plt.hist(df[df[\"G\"] == 1][label] , color= 'blue' , label=\"Positive\" , alpha = 0.6 , density = True )\n",
    "#     plt.hist(df[df[\"G\"] == 0][label] , color= 'red' , label=\"Negative\" , alpha = 0.6 , density = True )\n",
    "#     plt.title(label)\n",
    "#     plt.ylabel(\"P(X)\")\n",
    "#     plt.xlabel(label)\n",
    "#     plt.legend()\n",
    "#     plt.show()\n",
    "# Combine outputs into one class label like '1001'\n",
    "\n",
    "input_cols = ['Ia', 'Ib', 'Ic', 'Va', 'Vb', 'Vc']\n",
    "unique_faults = df['fault_type'].unique()\n",
    "\n",
    "colors = plt.cm.get_cmap('tab10', len(unique_faults))\n",
    "\n",
    "for in_col in input_cols:\n",
    "    plt.figure(figsize=(10, 5))\n",
    "    for i, fault in enumerate(unique_faults):\n",
    "        subset = df[df['fault_type'] == fault]\n",
    "        plt.hist(subset[in_col], bins=30, alpha=0.5, density=True,\n",
    "                 label=f'Fault {fault}', color=colors(i))\n",
    "    \n",
    "    plt.title(f\"Distribution of {in_col} for each Fault Type\")\n",
    "    plt.xlabel(in_col)\n",
    "    plt.ylabel(\"P(X)\")\n",
    "    plt.legend()"
   ]
  },
  {
   "cell_type": "markdown",
   "id": "f13cefd8",
   "metadata": {},
   "source": [
    "## Train and Validation and Test dataSet"
   ]
  },
  {
   "cell_type": "code",
   "execution_count": null,
   "id": "77d5f0cc",
   "metadata": {},
   "outputs": [],
   "source": [
    "train , valid , test = np.split(df.sample(frac = 1) , [int(0.6 * len(df)) , int(0.8 * len(df))])"
   ]
  },
  {
   "cell_type": "code",
   "execution_count": null,
   "id": "ab3dfe9c",
   "metadata": {},
   "outputs": [],
   "source": [
    "def scale_dataset(dataFrame):\n",
    "    x = dataFrame[['Ia', 'Ib', 'Ic', 'Va', 'Vb', 'Vc']].values\n",
    "    y = dataFrame[['G', 'C', 'B', 'A']].values\n",
    "    \n",
    "\n",
    "    scaler = StandardScaler()\n",
    "    x = scaler.fit_transform(x)\n",
    "\n",
    "    data = np.hstack((x, y))\n",
    "    y = y.dot(np.array([8, 4, 2, 1]))\n",
    "    return data , x, y"
   ]
  },
  {
   "cell_type": "code",
   "execution_count": null,
   "id": "5722e84e",
   "metadata": {},
   "outputs": [],
   "source": [
    "# print(len(train[train[\"G\"] == 1] ))\n",
    "# print(len(train[train[\"G\"] == 0] ))\n",
    "train , X_train , Y_train = scale_dataset(train)\n",
    "valid , X_valid , Y_valid = scale_dataset(valid)\n",
    "test , X_test , Y_test = scale_dataset(test)\n",
    "\n"
   ]
  },
  {
   "cell_type": "markdown",
   "id": "59d4eb31",
   "metadata": {},
   "source": [
    "# Models"
   ]
  },
  {
   "cell_type": "markdown",
   "id": "354732c2",
   "metadata": {},
   "source": [
    "## KNN"
   ]
  },
  {
   "cell_type": "code",
   "execution_count": null,
   "id": "8d7b4b30",
   "metadata": {},
   "outputs": [],
   "source": [
    "from sklearn.neighbors import  KNeighborsClassifier\n",
    "from sklearn.metrics import classification_report"
   ]
  },
  {
   "cell_type": "code",
   "execution_count": null,
   "id": "c5b3365a",
   "metadata": {},
   "outputs": [],
   "source": [
    "knn_model = KNeighborsClassifier(n_neighbors=5) # how much neghibor that will effect him\n",
    "knn_model.fit(X_train , Y_train)\n",
    " "
   ]
  },
  {
   "cell_type": "code",
   "execution_count": null,
   "id": "f497aeee",
   "metadata": {},
   "outputs": [],
   "source": [
    "y_pred = knn_model.predict(X_test)\n",
    "# valeur null"
   ]
  },
  {
   "cell_type": "code",
   "execution_count": null,
   "id": "f1e2fbf1",
   "metadata": {},
   "outputs": [],
   "source": [
    "print(classification_report(Y_test, y_pred ))"
   ]
  },
  {
   "cell_type": "code",
   "execution_count": null,
   "id": "ab136074",
   "metadata": {},
   "outputs": [],
   "source": [
    "# print(df['G'].value_counts())\n",
    "\n"
   ]
  },
  {
   "cell_type": "markdown",
   "id": "d2de73d6",
   "metadata": {},
   "source": [
    "To understand this result need to know that is mean Precision and Recall\n",
    "![alt text](image.png)"
   ]
  },
  {
   "cell_type": "markdown",
   "id": "fdaf96bb",
   "metadata": {},
   "source": [
    "## Naive Bayes"
   ]
  },
  {
   "cell_type": "code",
   "execution_count": null,
   "id": "8b4e713a",
   "metadata": {},
   "outputs": [],
   "source": [
    "from sklearn.naive_bayes import GaussianNB"
   ]
  },
  {
   "cell_type": "code",
   "execution_count": null,
   "id": "9f14876b",
   "metadata": {},
   "outputs": [],
   "source": [
    "\n",
    "# fault_labels = Y_train.dot(np.array([8, 4, 2, 1]))\n",
    "# fault_labels_test = Y_test.dot(np.array([8,4,2,1]))"
   ]
  },
  {
   "cell_type": "code",
   "execution_count": null,
   "id": "49bbf3e9",
   "metadata": {},
   "outputs": [],
   "source": [
    "nb_model = GaussianNB()\n",
    "nb_model.fit(X_train , Y_train)"
   ]
  },
  {
   "cell_type": "code",
   "execution_count": null,
   "id": "c3e260a1",
   "metadata": {},
   "outputs": [],
   "source": [
    "y_pred = nb_model.predict(X_test)\n",
    "y_pred"
   ]
  },
  {
   "cell_type": "code",
   "execution_count": null,
   "id": "8fcf4af7",
   "metadata": {},
   "outputs": [],
   "source": [
    "print(classification_report(Y_test, y_pred))"
   ]
  },
  {
   "cell_type": "markdown",
   "id": "1266d62f",
   "metadata": {},
   "source": [
    "this worst from the model of KNN "
   ]
  },
  {
   "cell_type": "markdown",
   "id": "ce36da64",
   "metadata": {},
   "source": [
    "## Logitic Regression"
   ]
  },
  {
   "cell_type": "code",
   "execution_count": null,
   "id": "0d0474f8",
   "metadata": {},
   "outputs": [],
   "source": [
    "from sklearn.linear_model import LogisticRegression"
   ]
  },
  {
   "cell_type": "code",
   "execution_count": null,
   "id": "510aa115",
   "metadata": {},
   "outputs": [],
   "source": [
    "lr_model = LogisticRegression()\n",
    "lr_model = lr_model.fit(X_train, Y_train)\n"
   ]
  },
  {
   "cell_type": "code",
   "execution_count": null,
   "id": "c8103070",
   "metadata": {},
   "outputs": [],
   "source": [
    "y_pred = lr_model.predict(X_test)\n",
    "y_pred"
   ]
  },
  {
   "cell_type": "code",
   "execution_count": null,
   "id": "1b0c4dc1",
   "metadata": {},
   "outputs": [],
   "source": [
    "print(classification_report(Y_test, y_pred))"
   ]
  },
  {
   "cell_type": "markdown",
   "id": "8264c2fb",
   "metadata": {},
   "source": [
    "## DecisionTreeClassifier\n"
   ]
  },
  {
   "cell_type": "code",
   "execution_count": null,
   "id": "d37adaa5",
   "metadata": {},
   "outputs": [],
   "source": [
    "from sklearn.tree import DecisionTreeClassifier ,plot_tree\n"
   ]
  },
  {
   "cell_type": "code",
   "execution_count": null,
   "id": "17e40835",
   "metadata": {},
   "outputs": [],
   "source": [
    "dt_model = DecisionTreeClassifier()\n",
    "dt_model = dt_model.fit(X_train, Y_train)\n",
    "y_pred = dt_model.predict(X_test)\n",
    "y_pred"
   ]
  },
  {
   "cell_type": "code",
   "execution_count": null,
   "id": "6cabbf84",
   "metadata": {},
   "outputs": [],
   "source": [
    "print(classification_report(Y_test, y_pred))"
   ]
  },
  {
   "cell_type": "code",
   "execution_count": null,
   "id": "c10476e9",
   "metadata": {},
   "outputs": [],
   "source": [
    "plot_tree(dt_model)\n"
   ]
  },
  {
   "cell_type": "markdown",
   "id": "f559b434",
   "metadata": {},
   "source": [
    "## RandomForestClassifier"
   ]
  },
  {
   "cell_type": "code",
   "execution_count": null,
   "id": "599f4286",
   "metadata": {},
   "outputs": [],
   "source": [
    "from sklearn.ensemble import RandomForestClassifier"
   ]
  },
  {
   "cell_type": "code",
   "execution_count": null,
   "id": "4986003a",
   "metadata": {},
   "outputs": [],
   "source": [
    "rf_model = RandomForestClassifier() #if i did this will be bad \n",
    "#n_estimators=100, max_depth=2,random_state=0\n",
    "rf_model = rf_model.fit(X_train, Y_train)\n",
    "y_pred = rf_model.predict(X_test)\n",
    "y_pred"
   ]
  },
  {
   "cell_type": "code",
   "execution_count": null,
   "id": "2b2543d4",
   "metadata": {},
   "outputs": [],
   "source": [
    "print(classification_report(Y_test, y_pred))"
   ]
  },
  {
   "cell_type": "markdown",
   "id": "95907faf",
   "metadata": {},
   "source": [
    "## SVC (Support Vector Classifier)"
   ]
  },
  {
   "cell_type": "code",
   "execution_count": null,
   "id": "e1140df7",
   "metadata": {},
   "outputs": [],
   "source": [
    "from sklearn.svm import SVC"
   ]
  },
  {
   "cell_type": "code",
   "execution_count": null,
   "id": "6cfd001e",
   "metadata": {},
   "outputs": [],
   "source": [
    "svm_model = SVC(kernel='linear')\n",
    "svm_model = svm_model.fit(X_train, Y_train)\n",
    "y_pred = svm_model.predict(X_test)\n",
    "y_pred"
   ]
  },
  {
   "cell_type": "code",
   "execution_count": null,
   "id": "15e28dff",
   "metadata": {},
   "outputs": [],
   "source": [
    "print(classification_report(Y_test, y_pred))"
   ]
  },
  {
   "cell_type": "markdown",
   "id": "042a4210",
   "metadata": {},
   "source": [
    "### using others kernels to get better score"
   ]
  },
  {
   "cell_type": "code",
   "execution_count": null,
   "id": "6809b3e7",
   "metadata": {},
   "outputs": [],
   "source": [
    "from sklearn.svm import SVC\n",
    "\n",
    "# Use RBF kernel\n",
    "svm_model = SVC(kernel='rbf')\n",
    "svm_model = svm_model.fit(X_train, Y_train)\n",
    "\n",
    "# Make predictions\n",
    "y_pred = svm_model.predict(X_test)\n",
    "\n",
    "print(classification_report(Y_test, y_pred))\n"
   ]
  },
  {
   "cell_type": "markdown",
   "id": "1fc2bc4f",
   "metadata": {},
   "source": [
    "#### Highlights:\n",
    "- Class 0, 9, 11: Excellent performance (f1-scores around 0.9+).\n",
    "\n",
    "- Class 6: Much better than before (f1-score up to 0.87 from 0.56).\n",
    "\n",
    "- Class 15: Still needs work (f1-score ~0.49, but recall improved).\n",
    "\n",
    "- Class 7: The lowest performer (f1-score ~0.40), possibly due to overlap or low feature separability"
   ]
  },
  {
   "cell_type": "code",
   "execution_count": null,
   "id": "331c563a",
   "metadata": {},
   "outputs": [],
   "source": [
    "from sklearn.model_selection import GridSearchCV\n",
    "\n",
    "param_grid = {\n",
    "    'C': [0.1, 1, 10, 100],\n",
    "    'gamma': [1, 0.1, 0.01, 0.001],\n",
    "    'kernel': ['rbf']\n",
    "}\n",
    "\n",
    "grid = GridSearchCV(SVC(), param_grid, refit=True, verbose=2, cv=5)\n",
    "grid.fit(X_train, Y_train)\n",
    "\n",
    "best_model = grid.best_estimator_\n",
    "y_pred = best_model.predict(X_test)\n"
   ]
  },
  {
   "cell_type": "code",
   "execution_count": null,
   "id": "12c58c98",
   "metadata": {},
   "outputs": [],
   "source": [
    "y_pred"
   ]
  },
  {
   "cell_type": "code",
   "execution_count": null,
   "id": "edfa2d43",
   "metadata": {},
   "outputs": [],
   "source": [
    "print(classification_report(Y_test, y_pred))"
   ]
  },
  {
   "cell_type": "code",
   "execution_count": null,
   "id": "bc77e571",
   "metadata": {},
   "outputs": [],
   "source": [
    "print(\"Best Parameters:\", grid.best_params_)\n"
   ]
  },
  {
   "cell_type": "code",
   "execution_count": null,
   "id": "a63ab08e",
   "metadata": {},
   "outputs": [],
   "source": [
    "# from sklearn import datasets\n",
    "# from mlxtend.plotting import plot_decision_regions\n",
    "\n",
    "# # Only works for 2D data, so reduce dimensions if needed\n",
    "# X = X_train[:, :2]  # Or use PCA if needed\n",
    "# y = Y_train\n",
    "\n",
    "# svm_model = SVC(kernel='rbf', C=10, gamma=0.01)\n",
    "# svm_model.fit(X, y)\n",
    "\n",
    "# plt.figure(figsize=(10, 6))\n",
    "# plot_decision_regions(X, y, clf=svm_model, legend=2)\n",
    "# plt.title('SVC Decision Boundary with RBF Kernel')\n",
    "# plt.xlabel('Feature 1')\n",
    "# plt.ylabel('Feature 2')\n",
    "# plt.show()"
   ]
  },
  {
   "cell_type": "markdown",
   "id": "97ce518d",
   "metadata": {},
   "source": [
    "## SGDClassifier"
   ]
  },
  {
   "cell_type": "code",
   "execution_count": null,
   "id": "c66f4646",
   "metadata": {},
   "outputs": [],
   "source": [
    "from sklearn.linear_model import SGDClassifier"
   ]
  },
  {
   "cell_type": "code",
   "execution_count": null,
   "id": "78561609",
   "metadata": {},
   "outputs": [],
   "source": [
    "sdg_model = SGDClassifier(loss=\"hinge\", penalty=\"l2\", max_iter=5)\n",
    "sdg_model.fit(X_train, Y_train)\n",
    "# Make predictions\n",
    "y_pred = svm_model.predict(X_test)\n",
    "\n",
    "print(classification_report(Y_test, y_pred))"
   ]
  },
  {
   "cell_type": "code",
   "execution_count": null,
   "id": "cd4e267f",
   "metadata": {},
   "outputs": [],
   "source": [
    "from xgboost import XGBClassifier\n",
    "\n"
   ]
  },
  {
   "cell_type": "code",
   "execution_count": null,
   "id": "9e807e8d",
   "metadata": {},
   "outputs": [],
   "source": [
    "\n",
    "XG_model = XGBClassifier()\n",
    "XG_model.fit(X_train, Y_train)\n",
    "predictions = XG_model.predict(X_test)"
   ]
  }
 ],
 "metadata": {
  "kernelspec": {
   "display_name": "Python 3",
   "language": "python",
   "name": "python3"
  },
  "language_info": {
   "codemirror_mode": {
    "name": "ipython",
    "version": 3
   },
   "file_extension": ".py",
   "mimetype": "text/x-python",
   "name": "python",
   "nbconvert_exporter": "python",
   "pygments_lexer": "ipython3",
   "version": "3.10.11"
  }
 },
 "nbformat": 4,
 "nbformat_minor": 5
}
